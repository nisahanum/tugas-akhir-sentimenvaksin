{
  "nbformat": 4,
  "nbformat_minor": 0,
  "metadata": {
    "colab": {
      "name": "Sentimen Vaksin.ipynb",
      "provenance": [],
      "collapsed_sections": []
    },
    "kernelspec": {
      "name": "python3",
      "display_name": "Python 3"
    },
    "language_info": {
      "name": "python"
    }
  },
  "cells": [
    {
      "cell_type": "code",
      "metadata": {
        "colab": {
          "base_uri": "https://localhost:8080/"
        },
        "id": "5b_ghHAiYdv0",
        "outputId": "306995f0-27bf-4ab7-e755-adcffaa971a0"
      },
      "source": [
        "!pip install elang"
      ],
      "execution_count": null,
      "outputs": [
        {
          "output_type": "stream",
          "name": "stdout",
          "text": [
            "Collecting elang\n",
            "  Downloading elang-0.1.1-py3-none-any.whl (342 kB)\n",
            "\u001b[K     |████████████████████████████████| 342 kB 2.7 MB/s \n",
            "\u001b[?25hRequirement already satisfied: beautifulsoup4 in /usr/local/lib/python3.7/dist-packages (from elang) (4.6.3)\n",
            "Requirement already satisfied: tqdm in /usr/local/lib/python3.7/dist-packages (from elang) (4.62.2)\n",
            "Requirement already satisfied: scikit-learn in /usr/local/lib/python3.7/dist-packages (from elang) (0.22.2.post1)\n",
            "Requirement already satisfied: gensim in /usr/local/lib/python3.7/dist-packages (from elang) (3.6.0)\n",
            "Requirement already satisfied: matplotlib in /usr/local/lib/python3.7/dist-packages (from elang) (3.2.2)\n",
            "Requirement already satisfied: scipy>=0.18.1 in /usr/local/lib/python3.7/dist-packages (from gensim->elang) (1.4.1)\n",
            "Requirement already satisfied: numpy>=1.11.3 in /usr/local/lib/python3.7/dist-packages (from gensim->elang) (1.19.5)\n",
            "Requirement already satisfied: smart-open>=1.2.1 in /usr/local/lib/python3.7/dist-packages (from gensim->elang) (5.2.1)\n",
            "Requirement already satisfied: six>=1.5.0 in /usr/local/lib/python3.7/dist-packages (from gensim->elang) (1.15.0)\n",
            "Requirement already satisfied: kiwisolver>=1.0.1 in /usr/local/lib/python3.7/dist-packages (from matplotlib->elang) (1.3.2)\n",
            "Requirement already satisfied: python-dateutil>=2.1 in /usr/local/lib/python3.7/dist-packages (from matplotlib->elang) (2.8.2)\n",
            "Requirement already satisfied: pyparsing!=2.0.4,!=2.1.2,!=2.1.6,>=2.0.1 in /usr/local/lib/python3.7/dist-packages (from matplotlib->elang) (2.4.7)\n",
            "Requirement already satisfied: cycler>=0.10 in /usr/local/lib/python3.7/dist-packages (from matplotlib->elang) (0.10.0)\n",
            "Requirement already satisfied: joblib>=0.11 in /usr/local/lib/python3.7/dist-packages (from scikit-learn->elang) (1.0.1)\n",
            "Installing collected packages: elang\n",
            "Successfully installed elang-0.1.1\n"
          ]
        }
      ]
    },
    {
      "cell_type": "code",
      "metadata": {
        "colab": {
          "base_uri": "https://localhost:8080/"
        },
        "id": "DwcPJhrsY4GD",
        "outputId": "564c4ff1-f40e-4e74-e601-0883c8c5efaa"
      },
      "source": [
        "from google.colab import drive\n",
        "drive.mount('/content/drive')"
      ],
      "execution_count": null,
      "outputs": [
        {
          "output_type": "stream",
          "name": "stdout",
          "text": [
            "Drive already mounted at /content/drive; to attempt to forcibly remount, call drive.mount(\"/content/drive\", force_remount=True).\n"
          ]
        }
      ]
    },
    {
      "cell_type": "code",
      "metadata": {
        "id": "bB0mAqLqYlfs"
      },
      "source": [
        "from tensorflow import keras "
      ],
      "execution_count": null,
      "outputs": []
    },
    {
      "cell_type": "code",
      "metadata": {
        "id": "rP1A3Y7fYpWb"
      },
      "source": [
        "# DataFrame\n",
        "import pandas as pd\n",
        "\n",
        "# Matplot\n",
        "import matplotlib.pyplot as plt\n",
        "%matplotlib inline\n",
        "\n",
        "# Scikit-learn\n",
        "from sklearn.model_selection import train_test_split\n",
        "from sklearn.preprocessing import LabelEncoder\n",
        "from sklearn.metrics import confusion_matrix, classification_report, accuracy_score, recall_score, precision_score, f1_score\n",
        "\n",
        "# Keras\n",
        "from keras.preprocessing.text import Tokenizer\n",
        "from keras.preprocessing.sequence import pad_sequences\n",
        "from keras.models import Sequential, load_model, Model\n",
        "from keras.layers import Activation, Dense, Dropout, Embedding, LSTM\n",
        "from keras import utils\n",
        "from tensorflow.keras.optimizers import RMSprop\n",
        "\n",
        "# Word2vec\n",
        "import gensim\n",
        "from gensim.models import Word2Vec\n",
        "\n",
        "# Utility\n",
        "import re\n",
        "import numpy as np\n",
        "import os\n",
        "from collections import Counter\n",
        "import logging\n",
        "import time\n",
        "import pickle\n",
        "import itertools\n",
        "import html\n",
        "import string as str\n",
        "from elang.plot.utils import plot2d, plotNeighbours\n",
        "\n",
        "# Widget\n",
        "from ipywidgets import widgets"
      ],
      "execution_count": null,
      "outputs": []
    },
    {
      "cell_type": "code",
      "metadata": {
        "id": "ZaC5HOwYYrEr"
      },
      "source": [
        "df = pd.read_csv('/content/drive/MyDrive/Kominfo/data vaksin/data olah/dfazclean.csv',sep=';')"
      ],
      "execution_count": null,
      "outputs": []
    },
    {
      "cell_type": "code",
      "metadata": {
        "colab": {
          "base_uri": "https://localhost:8080/",
          "height": 204
        },
        "id": "N0k_N9oIaaSM",
        "outputId": "50907413-8813-4a9c-b14c-530990ba0e22"
      },
      "source": [
        "df.head()"
      ],
      "execution_count": null,
      "outputs": [
        {
          "output_type": "execute_result",
          "data": {
            "text/html": [
              "<div>\n",
              "<style scoped>\n",
              "    .dataframe tbody tr th:only-of-type {\n",
              "        vertical-align: middle;\n",
              "    }\n",
              "\n",
              "    .dataframe tbody tr th {\n",
              "        vertical-align: top;\n",
              "    }\n",
              "\n",
              "    .dataframe thead th {\n",
              "        text-align: right;\n",
              "    }\n",
              "</style>\n",
              "<table border=\"1\" class=\"dataframe\">\n",
              "  <thead>\n",
              "    <tr style=\"text-align: right;\">\n",
              "      <th></th>\n",
              "      <th>pesan</th>\n",
              "      <th>label</th>\n",
              "    </tr>\n",
              "  </thead>\n",
              "  <tbody>\n",
              "    <tr>\n",
              "      <th>0</th>\n",
              "      <td>yolls deh vaccine ke bead vaccine nih viral ko...</td>\n",
              "      <td>1</td>\n",
              "    </tr>\n",
              "    <tr>\n",
              "      <th>1</th>\n",
              "      <td>thank you dbctssi and aventus aventus filo</td>\n",
              "      <td>1</td>\n",
              "    </tr>\n",
              "    <tr>\n",
              "      <th>2</th>\n",
              "      <td>staf kami sentiasa mementingkan aspek kebersih...</td>\n",
              "      <td>1</td>\n",
              "    </tr>\n",
              "    <tr>\n",
              "      <th>3</th>\n",
              "      <td>lengkap sudah dua dosis vaksin astra zeneca di...</td>\n",
              "      <td>1</td>\n",
              "    </tr>\n",
              "    <tr>\n",
              "      <th>4</th>\n",
              "      <td>lengkap sudah dua dosis vaksin astra zeneca di...</td>\n",
              "      <td>1</td>\n",
              "    </tr>\n",
              "  </tbody>\n",
              "</table>\n",
              "</div>"
            ],
            "text/plain": [
              "                                               pesan  label\n",
              "0  yolls deh vaccine ke bead vaccine nih viral ko...      1\n",
              "1         thank you dbctssi and aventus aventus filo      1\n",
              "2  staf kami sentiasa mementingkan aspek kebersih...      1\n",
              "3  lengkap sudah dua dosis vaksin astra zeneca di...      1\n",
              "4  lengkap sudah dua dosis vaksin astra zeneca di...      1"
            ]
          },
          "metadata": {},
          "execution_count": 12
        }
      ]
    },
    {
      "cell_type": "code",
      "metadata": {
        "id": "mQoj9A3DcLse"
      },
      "source": [
        "decode_map = ({0: \"NEGATIF\", 1: \"POSITIF\",2: \"NETRAL\"})\n",
        "\n",
        "def decode_sentiment(label): \n",
        "  return decode_map[int(label)]"
      ],
      "execution_count": null,
      "outputs": []
    },
    {
      "cell_type": "code",
      "metadata": {
        "colab": {
          "base_uri": "https://localhost:8080/"
        },
        "id": "EBpCbPJScdOF",
        "outputId": "6ae150b9-feca-4b44-c27b-1d556ee0b601"
      },
      "source": [
        "%%time\n",
        "df.label = df.label.apply(lambda x: decode_sentiment(x)) "
      ],
      "execution_count": null,
      "outputs": [
        {
          "output_type": "stream",
          "name": "stdout",
          "text": [
            "CPU times: user 1.55 ms, sys: 0 ns, total: 1.55 ms\n",
            "Wall time: 1.57 ms\n"
          ]
        }
      ]
    },
    {
      "cell_type": "code",
      "metadata": {
        "colab": {
          "base_uri": "https://localhost:8080/",
          "height": 517
        },
        "id": "XxOPWl9_acDy",
        "outputId": "d24e0eec-a485-4d01-bb41-7e87613e2074"
      },
      "source": [
        "Label_cnt = Counter(df.label)\n",
        "\n",
        "plt.figure(figsize=(16,8)) \n",
        "plt.bar(Label_cnt.keys(), Label_cnt.values()) \n",
        "plt.title(\"Dataset Labels Distribution\", fontsize=\"x-large\")"
      ],
      "execution_count": null,
      "outputs": [
        {
          "output_type": "execute_result",
          "data": {
            "text/plain": [
              "Text(0.5, 1.0, 'Dataset Labels Distribution')"
            ]
          },
          "metadata": {},
          "execution_count": 19
        },
        {
          "output_type": "display_data",
          "data": {
            "image/png": "[encoded data removed]",
            "text/plain": [
              "<Figure size 1152x576 with 1 Axes>"
            ]
          },
          "metadata": {
            "needs_background": "light"
          }
        }
      ]
    },
    {
      "cell_type": "markdown",
      "metadata": {
        "id": "hkyZHqnddBNz"
      },
      "source": [
        "**Spliting Data**"
      ]
    },
    {
      "cell_type": "code",
      "metadata": {
        "colab": {
          "base_uri": "https://localhost:8080/"
        },
        "id": "KYsIKVN7dD7K",
        "outputId": "bc7ab911-fd30-4b5f-cb35-334f0ac3c3ce"
      },
      "source": [
        "df_train, df_test = train_test_split(df, test_size=0.2, random_state=42, stratify=df['label'])\n",
        "\n",
        "train_percentage = df_train['label'].value_counts(normalize=True)*100\n",
        "\n",
        "test_percentage  = df_test['label'].value_counts(normalize=True)*100\n",
        "\n",
        "print('TRAIN DATASET')\n",
        "print('Train size:', len(df_train))\n",
        "print('Persentase Train Dataset:')\n",
        "print(round(train_percentage, 2))\n",
        "\n",
        "print('=================================================================')\n",
        "\n",
        "print('TEST DATASET')\n",
        "print('Test size:', len(df_test))\n",
        "print('Persentase Test Dataset:')\n",
        "print(round(test_percentage, 2))"
      ],
      "execution_count": null,
      "outputs": [
        {
          "output_type": "stream",
          "name": "stdout",
          "text": [
            "TRAIN DATASET\n",
            "Train size: 80\n",
            "Persentase Train Dataset:\n",
            "NETRAL     47.50\n",
            "POSITIF    33.75\n",
            "NEGATIF    18.75\n",
            "Name: label, dtype: float64\n",
            "=================================================================\n",
            "TEST DATASET\n",
            "Test size: 20\n",
            "Persentase Test Dataset:\n",
            "NETRAL     50.0\n",
            "POSITIF    30.0\n",
            "NEGATIF    20.0\n",
            "Name: label, dtype: float64\n"
          ]
        }
      ]
    },
    {
      "cell_type": "code",
      "metadata": {
        "id": "DZwoB986dIAW"
      },
      "source": [
        ""
      ],
      "execution_count": null,
      "outputs": []
    }
  ]
}