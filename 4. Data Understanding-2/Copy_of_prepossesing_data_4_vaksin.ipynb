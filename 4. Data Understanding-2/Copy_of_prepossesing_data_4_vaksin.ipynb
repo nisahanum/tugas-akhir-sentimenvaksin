{
  "nbformat": 4,
  "nbformat_minor": 0,
  "metadata": {
    "colab": {
      "name": "Copy of prepossesing data 4 vaksin.ipynb",
      "provenance": [],
      "collapsed_sections": []
    },
    "kernelspec": {
      "name": "python3",
      "display_name": "Python 3"
    },
    "language_info": {
      "name": "python"
    }
  },
  "cells": [
    {
      "cell_type": "code",
      "metadata": {
        "colab": {
          "base_uri": "https://localhost:8080/"
        },
        "id": "85DOFIsmL8BK",
        "outputId": "ebd1f5b8-2af2-44c0-98d4-103e3e1d5716"
      },
      "source": [
        "!pip install elang"
      ],
      "execution_count": null,
      "outputs": [
        {
          "output_type": "stream",
          "name": "stdout",
          "text": [
            "Collecting elang\n",
            "  Downloading elang-0.1.1-py3-none-any.whl (342 kB)\n",
            "\u001b[K     |████████████████████████████████| 342 kB 5.1 MB/s \n",
            "\u001b[?25hRequirement already satisfied: scikit-learn in /usr/local/lib/python3.7/dist-packages (from elang) (0.22.2.post1)\n",
            "Requirement already satisfied: matplotlib in /usr/local/lib/python3.7/dist-packages (from elang) (3.2.2)\n",
            "Requirement already satisfied: gensim in /usr/local/lib/python3.7/dist-packages (from elang) (3.6.0)\n",
            "Requirement already satisfied: tqdm in /usr/local/lib/python3.7/dist-packages (from elang) (4.62.0)\n",
            "Requirement already satisfied: beautifulsoup4 in /usr/local/lib/python3.7/dist-packages (from elang) (4.6.3)\n",
            "Requirement already satisfied: smart-open>=1.2.1 in /usr/local/lib/python3.7/dist-packages (from gensim->elang) (5.1.0)\n",
            "Requirement already satisfied: six>=1.5.0 in /usr/local/lib/python3.7/dist-packages (from gensim->elang) (1.15.0)\n",
            "Requirement already satisfied: numpy>=1.11.3 in /usr/local/lib/python3.7/dist-packages (from gensim->elang) (1.19.5)\n",
            "Requirement already satisfied: scipy>=0.18.1 in /usr/local/lib/python3.7/dist-packages (from gensim->elang) (1.4.1)\n",
            "Requirement already satisfied: cycler>=0.10 in /usr/local/lib/python3.7/dist-packages (from matplotlib->elang) (0.10.0)\n",
            "Requirement already satisfied: kiwisolver>=1.0.1 in /usr/local/lib/python3.7/dist-packages (from matplotlib->elang) (1.3.1)\n",
            "Requirement already satisfied: pyparsing!=2.0.4,!=2.1.2,!=2.1.6,>=2.0.1 in /usr/local/lib/python3.7/dist-packages (from matplotlib->elang) (2.4.7)\n",
            "Requirement already satisfied: python-dateutil>=2.1 in /usr/local/lib/python3.7/dist-packages (from matplotlib->elang) (2.8.2)\n",
            "Requirement already satisfied: joblib>=0.11 in /usr/local/lib/python3.7/dist-packages (from scikit-learn->elang) (1.0.1)\n",
            "Installing collected packages: elang\n",
            "Successfully installed elang-0.1.1\n"
          ]
        }
      ]
    },
    {
      "cell_type": "code",
      "metadata": {
        "colab": {
          "base_uri": "https://localhost:8080/"
        },
        "id": "Hohpjm9XlGdf",
        "outputId": "39129a71-c655-4ce8-cfc4-603fa33c042a"
      },
      "source": [
        "from google.colab import drive\n",
        "drive.mount('/content/drive')"
      ],
      "execution_count": null,
      "outputs": [
        {
          "output_type": "stream",
          "name": "stdout",
          "text": [
            "Drive already mounted at /content/drive; to attempt to forcibly remount, call drive.mount(\"/content/drive\", force_remount=True).\n"
          ]
        }
      ]
    },
    {
      "cell_type": "code",
      "metadata": {
        "id": "eH65pcDSMEpy"
      },
      "source": [
        "#importing pandas package\n",
        "import pandas as pd"
      ],
      "execution_count": null,
      "outputs": []
    },
    {
      "cell_type": "code",
      "metadata": {
        "id": "xFDw5xtvMHji"
      },
      "source": [
        "# Utility\n",
        "import re\n",
        "import numpy as np\n",
        "import os\n",
        "from collections import Counter\n",
        "import logging\n",
        "import time\n",
        "import pickle\n",
        "import itertools\n",
        "import html\n",
        "import string as str\n",
        "from elang.plot.utils import plot2d, plotNeighbours"
      ],
      "execution_count": null,
      "outputs": []
    },
    {
      "cell_type": "markdown",
      "metadata": {
        "id": "kInko-EGMLeD"
      },
      "source": [
        "moderna"
      ]
    },
    {
      "cell_type": "code",
      "metadata": {
        "id": "g1rwk3L8MKKD"
      },
      "source": [
        "df_moderna = pd.read_csv('/content/drive/MyDrive/Kominfo/data/new crawling/moderna100.csv')"
      ],
      "execution_count": null,
      "outputs": []
    },
    {
      "cell_type": "code",
      "metadata": {
        "colab": {
          "base_uri": "https://localhost:8080/",
          "height": 202
        },
        "id": "0Vx9RInWMcXj",
        "outputId": "a327ece2-f596-4e10-8406-a4ad5a92f8dd"
      },
      "source": [
        "df_moderna.head()"
      ],
      "execution_count": null,
      "outputs": [
        {
          "output_type": "execute_result",
          "data": {
            "text/html": [
              "<div>\n",
              "<style scoped>\n",
              "    .dataframe tbody tr th:only-of-type {\n",
              "        vertical-align: middle;\n",
              "    }\n",
              "\n",
              "    .dataframe tbody tr th {\n",
              "        vertical-align: top;\n",
              "    }\n",
              "\n",
              "    .dataframe thead th {\n",
              "        text-align: right;\n",
              "    }\n",
              "</style>\n",
              "<table border=\"1\" class=\"dataframe\">\n",
              "  <thead>\n",
              "    <tr style=\"text-align: right;\">\n",
              "      <th></th>\n",
              "      <th>Unnamed: 0</th>\n",
              "      <th>user</th>\n",
              "      <th>location</th>\n",
              "      <th>pesan</th>\n",
              "    </tr>\n",
              "  </thead>\n",
              "  <tbody>\n",
              "    <tr>\n",
              "      <th>0</th>\n",
              "      <td>0</td>\n",
              "      <td>Andespen1</td>\n",
              "      <td>NaN</td>\n",
              "      <td>Punya Kadar Antibodi 2 Kali Lebih Tinggi Dari ...</td>\n",
              "    </tr>\n",
              "    <tr>\n",
              "      <th>1</th>\n",
              "      <td>1</td>\n",
              "      <td>Nurput07</td>\n",
              "      <td>Indonesia</td>\n",
              "      <td>Udah Vaksinasi belum?\\nYuk vaksin, biar bisa s...</td>\n",
              "    </tr>\n",
              "    <tr>\n",
              "      <th>2</th>\n",
              "      <td>2</td>\n",
              "      <td>Irman81</td>\n",
              "      <td>Jl.Cinere Raya - Limo</td>\n",
              "      <td>Vaksin Pfizer tgl 3 Sept jam 11:00, abis maghr...</td>\n",
              "    </tr>\n",
              "    <tr>\n",
              "      <th>3</th>\n",
              "      <td>3</td>\n",
              "      <td>syafrudin76</td>\n",
              "      <td>Mataram</td>\n",
              "      <td>Vaksin dosis pertama #Moderna bisa dapat antri...</td>\n",
              "    </tr>\n",
              "    <tr>\n",
              "      <th>4</th>\n",
              "      <td>4</td>\n",
              "      <td>yusyusN</td>\n",
              "      <td>bandung, indonesia</td>\n",
              "      <td>KIPI di awal2 pasca vaksin booster cuma pegal ...</td>\n",
              "    </tr>\n",
              "  </tbody>\n",
              "</table>\n",
              "</div>"
            ],
            "text/plain": [
              "   Unnamed: 0  ...                                              pesan\n",
              "0           0  ...  Punya Kadar Antibodi 2 Kali Lebih Tinggi Dari ...\n",
              "1           1  ...  Udah Vaksinasi belum?\\nYuk vaksin, biar bisa s...\n",
              "2           2  ...  Vaksin Pfizer tgl 3 Sept jam 11:00, abis maghr...\n",
              "3           3  ...  Vaksin dosis pertama #Moderna bisa dapat antri...\n",
              "4           4  ...  KIPI di awal2 pasca vaksin booster cuma pegal ...\n",
              "\n",
              "[5 rows x 4 columns]"
            ]
          },
          "metadata": {},
          "execution_count": 5
        }
      ]
    },
    {
      "cell_type": "code",
      "metadata": {
        "id": "D8SQBGmFMeZ6"
      },
      "source": [
        "# dropping ALL duplicate values\n",
        "df_moderna.drop_duplicates(subset =\"pesan\",\n",
        "                     keep = False, inplace = True)"
      ],
      "execution_count": null,
      "outputs": []
    },
    {
      "cell_type": "code",
      "metadata": {
        "id": "wAtNEnaiMmKi"
      },
      "source": [
        "DATA_KBBI = [kamus.strip('\\n').strip('\\r') for kamus in open('/content/drive/MyDrive/Kominfo/kamus/slangword.txt')]"
      ],
      "execution_count": null,
      "outputs": []
    },
    {
      "cell_type": "code",
      "metadata": {
        "id": "LB5iKQEKNCs0"
      },
      "source": [
        "def tweet_cleaner(tweet):\n",
        "\n",
        "    #remove emoticon and emoji\n",
        "    tweet = re.sub(r'<U?\\+[a-fA-F0-9]\\w+\\>','', tweet)\n",
        "    #remove escape caharacter\n",
        "    tweet = html.unescape(tweet)\n",
        "    #lower case\n",
        "    tweet = tweet.lower()\n",
        "    #remove url\n",
        "    tweet = re.sub(r'https?:\\/\\/.*[\\r\\n]*','',tweet, flags=re.MULTILINE)\n",
        "    #replace consecutive non-ASCII characters with a space\n",
        "    tweet = re.sub(r'[^\\x00-\\x7F]+','', tweet).encode('ascii','ignore').decode(\"utf8\")\n",
        "    #special symbol (hashtag and mention) on tweet\n",
        "    tweet = re.sub(r\"#(\\w+)\", ' ',tweet, flags=re.MULTILINE)\n",
        "    tweet = re.sub(r\"@(\\w+)\", ' ',tweet, flags=re.MULTILINE)\n",
        "    tweet = re.sub(r':','', tweet)\n",
        "    tweet = re.sub(r'‚Ä¶','', tweet)\n",
        "    #remove whitespace and line break\n",
        "    tweet = tweet.strip()\n",
        "    tweet = re.sub(r'(?<!\\.)\\n', '', tweet)\n",
        "    #remove punctuation\n",
        "    tweet = \"\".join([char for char in tweet if char not in str.punctuation])\n",
        "    tweet = re.sub('[0-9]+','', tweet)\n",
        "    tweet = re.sub(r'\\n','',tweet)\n",
        "    tweet = re.sub(r'\\r','',tweet)\n",
        "    #remove double word\n",
        "    tweet = re.sub(r'\\b(\\w+)( \\1\\b)+', r'\\1', tweet)\n",
        "    #split data\n",
        "    tweet = re.split('\\W+', tweet) \n",
        "    dic={}\n",
        "\n",
        "    for i in DATA_KBBI: \n",
        "      (key,val)=i.split('\\t')\n",
        "      dic[key]=val\n",
        "\n",
        "    # kbbi cocokan \n",
        "    tweet = ' '.join(dic.get(word, word) for word in tweet).split()\n",
        "    \n",
        "    return tweet"
      ],
      "execution_count": null,
      "outputs": []
    },
    {
      "cell_type": "code",
      "metadata": {
        "colab": {
          "base_uri": "https://localhost:8080/"
        },
        "id": "F1v7JuCLNHGk",
        "outputId": "b8cb65b6-efe0-487b-9837-505dd7d62d10"
      },
      "source": [
        "%%time\n",
        "df_moderna['pesan'] = df_moderna['pesan'].apply(lambda x: tweet_cleaner(x)).str.join(' ')"
      ],
      "execution_count": null,
      "outputs": [
        {
          "output_type": "stream",
          "name": "stdout",
          "text": [
            "CPU times: user 464 ms, sys: 2.08 ms, total: 466 ms\n",
            "Wall time: 467 ms\n"
          ]
        }
      ]
    },
    {
      "cell_type": "code",
      "metadata": {
        "colab": {
          "base_uri": "https://localhost:8080/",
          "height": 202
        },
        "id": "FY8nz1X5MteK",
        "outputId": "73453539-2044-4758-9a0d-a4b8948e3851"
      },
      "source": [
        "df_moderna.head()"
      ],
      "execution_count": null,
      "outputs": [
        {
          "output_type": "execute_result",
          "data": {
            "text/html": [
              "<div>\n",
              "<style scoped>\n",
              "    .dataframe tbody tr th:only-of-type {\n",
              "        vertical-align: middle;\n",
              "    }\n",
              "\n",
              "    .dataframe tbody tr th {\n",
              "        vertical-align: top;\n",
              "    }\n",
              "\n",
              "    .dataframe thead th {\n",
              "        text-align: right;\n",
              "    }\n",
              "</style>\n",
              "<table border=\"1\" class=\"dataframe\">\n",
              "  <thead>\n",
              "    <tr style=\"text-align: right;\">\n",
              "      <th></th>\n",
              "      <th>Unnamed: 0</th>\n",
              "      <th>user</th>\n",
              "      <th>location</th>\n",
              "      <th>pesan</th>\n",
              "    </tr>\n",
              "  </thead>\n",
              "  <tbody>\n",
              "    <tr>\n",
              "      <th>0</th>\n",
              "      <td>0</td>\n",
              "      <td>Andespen1</td>\n",
              "      <td>NaN</td>\n",
              "      <td>punya kadar antibodi kali lebih tinggi dari pf...</td>\n",
              "    </tr>\n",
              "    <tr>\n",
              "      <th>1</th>\n",
              "      <td>1</td>\n",
              "      <td>Nurput07</td>\n",
              "      <td>Indonesia</td>\n",
              "      <td>sudah vaksinasi belumyuk vaksin biar bisa sali...</td>\n",
              "    </tr>\n",
              "    <tr>\n",
              "      <th>2</th>\n",
              "      <td>2</td>\n",
              "      <td>Irman81</td>\n",
              "      <td>Jl.Cinere Raya - Limo</td>\n",
              "      <td>vaksin pfizer tanggal sept jam habis maghrib m...</td>\n",
              "    </tr>\n",
              "    <tr>\n",
              "      <th>3</th>\n",
              "      <td>3</td>\n",
              "      <td>syafrudin76</td>\n",
              "      <td>Mataram</td>\n",
              "      <td>vaksin dosis pertama bisa dapat antrian cantik...</td>\n",
              "    </tr>\n",
              "    <tr>\n",
              "      <th>4</th>\n",
              "      <td>4</td>\n",
              "      <td>yusyusN</td>\n",
              "      <td>bandung, indonesia</td>\n",
              "      <td>kipi di awal pasca vaksin booster cuma pegal d...</td>\n",
              "    </tr>\n",
              "  </tbody>\n",
              "</table>\n",
              "</div>"
            ],
            "text/plain": [
              "   Unnamed: 0  ...                                              pesan\n",
              "0           0  ...  punya kadar antibodi kali lebih tinggi dari pf...\n",
              "1           1  ...  sudah vaksinasi belumyuk vaksin biar bisa sali...\n",
              "2           2  ...  vaksin pfizer tanggal sept jam habis maghrib m...\n",
              "3           3  ...  vaksin dosis pertama bisa dapat antrian cantik...\n",
              "4           4  ...  kipi di awal pasca vaksin booster cuma pegal d...\n",
              "\n",
              "[5 rows x 4 columns]"
            ]
          },
          "metadata": {},
          "execution_count": 13
        }
      ]
    },
    {
      "cell_type": "code",
      "metadata": {
        "id": "-iXVUWbYNXLL"
      },
      "source": [
        "df_moderna.to_csv(\"/content/drive/MyDrive/Kominfo/data/new crawling/modernaclean.csv\")"
      ],
      "execution_count": null,
      "outputs": []
    },
    {
      "cell_type": "markdown",
      "metadata": {
        "id": "mA7cfK2-lWFn"
      },
      "source": [
        "Sinovac"
      ]
    },
    {
      "cell_type": "code",
      "metadata": {
        "id": "UVHr42nzO-d7"
      },
      "source": [
        "df_sinovac = pd.read_csv('/content/drive/MyDrive/Kominfo/data/new crawling/newsinovac100.csv')"
      ],
      "execution_count": null,
      "outputs": []
    },
    {
      "cell_type": "code",
      "metadata": {
        "colab": {
          "base_uri": "https://localhost:8080/",
          "height": 202
        },
        "id": "HMqVf9hClnL5",
        "outputId": "6ed934c4-afee-40ac-cf25-516b6baa0e4e"
      },
      "source": [
        "df_sinovac.head()"
      ],
      "execution_count": null,
      "outputs": [
        {
          "output_type": "execute_result",
          "data": {
            "text/html": [
              "<div>\n",
              "<style scoped>\n",
              "    .dataframe tbody tr th:only-of-type {\n",
              "        vertical-align: middle;\n",
              "    }\n",
              "\n",
              "    .dataframe tbody tr th {\n",
              "        vertical-align: top;\n",
              "    }\n",
              "\n",
              "    .dataframe thead th {\n",
              "        text-align: right;\n",
              "    }\n",
              "</style>\n",
              "<table border=\"1\" class=\"dataframe\">\n",
              "  <thead>\n",
              "    <tr style=\"text-align: right;\">\n",
              "      <th></th>\n",
              "      <th>Unnamed: 0</th>\n",
              "      <th>user</th>\n",
              "      <th>location</th>\n",
              "      <th>pesan</th>\n",
              "    </tr>\n",
              "  </thead>\n",
              "  <tbody>\n",
              "    <tr>\n",
              "      <th>0</th>\n",
              "      <td>0</td>\n",
              "      <td>reddvelveet</td>\n",
              "      <td>NaN</td>\n",
              "      <td>Info vaksin dosis 1 sinovac dong daerah Cibitu...</td>\n",
              "    </tr>\n",
              "    <tr>\n",
              "      <th>1</th>\n",
              "      <td>1</td>\n",
              "      <td>polsekkuta</td>\n",
              "      <td>Badung, Bali</td>\n",
              "      <td>Kapolsek Kuta Polresta Denpasar Kompol Orpa SM...</td>\n",
              "    </tr>\n",
              "    <tr>\n",
              "      <th>2</th>\n",
              "      <td>2</td>\n",
              "      <td>WhyMenggay</td>\n",
              "      <td>Fridge</td>\n",
              "      <td>Fully vaxx na din sa wakas!!! ❤💉 #Sinovac</td>\n",
              "    </tr>\n",
              "    <tr>\n",
              "      <th>3</th>\n",
              "      <td>3</td>\n",
              "      <td>SheMizuhara</td>\n",
              "      <td>Malaysia</td>\n",
              "      <td>Alhamdulillah I'm fully vaccinated thank you s...</td>\n",
              "    </tr>\n",
              "    <tr>\n",
              "      <th>4</th>\n",
              "      <td>4</td>\n",
              "      <td>Irman81</td>\n",
              "      <td>Jl.Cinere Raya - Limo</td>\n",
              "      <td>Vaksin Pfizer tgl 3 Sept jam 11:00, abis maghr...</td>\n",
              "    </tr>\n",
              "  </tbody>\n",
              "</table>\n",
              "</div>"
            ],
            "text/plain": [
              "   Unnamed: 0  ...                                              pesan\n",
              "0           0  ...  Info vaksin dosis 1 sinovac dong daerah Cibitu...\n",
              "1           1  ...  Kapolsek Kuta Polresta Denpasar Kompol Orpa SM...\n",
              "2           2  ...          Fully vaxx na din sa wakas!!! ❤💉 #Sinovac\n",
              "3           3  ...  Alhamdulillah I'm fully vaccinated thank you s...\n",
              "4           4  ...  Vaksin Pfizer tgl 3 Sept jam 11:00, abis maghr...\n",
              "\n",
              "[5 rows x 4 columns]"
            ]
          },
          "metadata": {},
          "execution_count": 8
        }
      ]
    },
    {
      "cell_type": "code",
      "metadata": {
        "id": "CVlP92yrlpJm"
      },
      "source": [
        "# dropping ALL duplicate values\n",
        "df_sinovac.drop_duplicates(subset =\"pesan\",\n",
        "                     keep = False, inplace = True)"
      ],
      "execution_count": null,
      "outputs": []
    },
    {
      "cell_type": "code",
      "metadata": {
        "colab": {
          "base_uri": "https://localhost:8080/"
        },
        "id": "g-FM4KkVluA-",
        "outputId": "29f321ee-a75e-4e3a-f80e-2c8e91c630ba"
      },
      "source": [
        "%%time\n",
        "df_sinovac['pesan'] = df_sinovac['pesan'].apply(lambda x: tweet_cleaner(x)).str.join(' ')"
      ],
      "execution_count": null,
      "outputs": [
        {
          "output_type": "stream",
          "name": "stdout",
          "text": [
            "CPU times: user 530 ms, sys: 0 ns, total: 530 ms\n",
            "Wall time: 532 ms\n"
          ]
        }
      ]
    },
    {
      "cell_type": "code",
      "metadata": {
        "colab": {
          "base_uri": "https://localhost:8080/",
          "height": 355
        },
        "id": "O8S0B2pel2A2",
        "outputId": "5009065c-e876-4104-ad43-3507e49d135a"
      },
      "source": [
        "df_sinovac.head(10)"
      ],
      "execution_count": null,
      "outputs": [
        {
          "output_type": "execute_result",
          "data": {
            "text/html": [
              "<div>\n",
              "<style scoped>\n",
              "    .dataframe tbody tr th:only-of-type {\n",
              "        vertical-align: middle;\n",
              "    }\n",
              "\n",
              "    .dataframe tbody tr th {\n",
              "        vertical-align: top;\n",
              "    }\n",
              "\n",
              "    .dataframe thead th {\n",
              "        text-align: right;\n",
              "    }\n",
              "</style>\n",
              "<table border=\"1\" class=\"dataframe\">\n",
              "  <thead>\n",
              "    <tr style=\"text-align: right;\">\n",
              "      <th></th>\n",
              "      <th>Unnamed: 0</th>\n",
              "      <th>user</th>\n",
              "      <th>location</th>\n",
              "      <th>pesan</th>\n",
              "    </tr>\n",
              "  </thead>\n",
              "  <tbody>\n",
              "    <tr>\n",
              "      <th>0</th>\n",
              "      <td>0</td>\n",
              "      <td>reddvelveet</td>\n",
              "      <td>NaN</td>\n",
              "      <td>info vaksin dosis sinovac dong daerah cibitung...</td>\n",
              "    </tr>\n",
              "    <tr>\n",
              "      <th>1</th>\n",
              "      <td>1</td>\n",
              "      <td>polsekkuta</td>\n",
              "      <td>Badung, Bali</td>\n",
              "      <td>kapolsek kuta polresta denpasar kompol orpa sa...</td>\n",
              "    </tr>\n",
              "    <tr>\n",
              "      <th>2</th>\n",
              "      <td>2</td>\n",
              "      <td>WhyMenggay</td>\n",
              "      <td>Fridge</td>\n",
              "      <td>fully vaxx nya din sa wakas</td>\n",
              "    </tr>\n",
              "    <tr>\n",
              "      <th>3</th>\n",
              "      <td>3</td>\n",
              "      <td>SheMizuhara</td>\n",
              "      <td>Malaysia</td>\n",
              "      <td>alhamdulillah im fully vaccinated thank you se...</td>\n",
              "    </tr>\n",
              "    <tr>\n",
              "      <th>4</th>\n",
              "      <td>4</td>\n",
              "      <td>Irman81</td>\n",
              "      <td>Jl.Cinere Raya - Limo</td>\n",
              "      <td>vaksin pfizer tanggal sept jam habis maghrib m...</td>\n",
              "    </tr>\n",
              "    <tr>\n",
              "      <th>5</th>\n",
              "      <td>5</td>\n",
              "      <td>polsekkuta</td>\n",
              "      <td>Badung, Bali</td>\n",
              "      <td>kapolsek kuta polresta denpasar kompol orpa sa...</td>\n",
              "    </tr>\n",
              "    <tr>\n",
              "      <th>6</th>\n",
              "      <td>6</td>\n",
              "      <td>Blood4LifeID</td>\n",
              "      <td>Indonesia</td>\n",
              "      <td>sept pmi jakut jalan plumpang semper jakart</td>\n",
              "    </tr>\n",
              "    <tr>\n",
              "      <th>7</th>\n",
              "      <td>7</td>\n",
              "      <td>_Room641A</td>\n",
              "      <td>RA 10h 47m 56s | Dec +8° 43 39</td>\n",
              "      <td>winter is coming tik tak tik tak that makes sense</td>\n",
              "    </tr>\n",
              "    <tr>\n",
              "      <th>8</th>\n",
              "      <td>8</td>\n",
              "      <td>manisazman</td>\n",
              "      <td>Johore, Malaysia</td>\n",
              "      <td>finally alhamdulilah setel deh tunggu hari pul...</td>\n",
              "    </tr>\n",
              "    <tr>\n",
              "      <th>9</th>\n",
              "      <td>9</td>\n",
              "      <td>radar_malang</td>\n",
              "      <td>Jalan Kawi 11B, Kota Malang</td>\n",
              "      <td>memasuki hari ketiga vaksinasi untuk para pela...</td>\n",
              "    </tr>\n",
              "  </tbody>\n",
              "</table>\n",
              "</div>"
            ],
            "text/plain": [
              "   Unnamed: 0  ...                                              pesan\n",
              "0           0  ...  info vaksin dosis sinovac dong daerah cibitung...\n",
              "1           1  ...  kapolsek kuta polresta denpasar kompol orpa sa...\n",
              "2           2  ...                        fully vaxx nya din sa wakas\n",
              "3           3  ...  alhamdulillah im fully vaccinated thank you se...\n",
              "4           4  ...  vaksin pfizer tanggal sept jam habis maghrib m...\n",
              "5           5  ...  kapolsek kuta polresta denpasar kompol orpa sa...\n",
              "6           6  ...        sept pmi jakut jalan plumpang semper jakart\n",
              "7           7  ...  winter is coming tik tak tik tak that makes sense\n",
              "8           8  ...  finally alhamdulilah setel deh tunggu hari pul...\n",
              "9           9  ...  memasuki hari ketiga vaksinasi untuk para pela...\n",
              "\n",
              "[10 rows x 4 columns]"
            ]
          },
          "metadata": {},
          "execution_count": 11
        }
      ]
    },
    {
      "cell_type": "code",
      "metadata": {
        "id": "8mDyILr_l7je"
      },
      "source": [
        "df_sinovac.to_csv(\"/content/drive/MyDrive/Kominfo/data/new crawling/sinovacclean.csv\")"
      ],
      "execution_count": null,
      "outputs": []
    },
    {
      "cell_type": "markdown",
      "metadata": {
        "id": "KmshR_EHmekh"
      },
      "source": [
        "Pfizer"
      ]
    },
    {
      "cell_type": "code",
      "metadata": {
        "id": "ivty7_w9mgQ-"
      },
      "source": [
        "df_pfizer = pd.read_csv('/content/drive/MyDrive/Kominfo/data/new crawling/pfizer100.csv')"
      ],
      "execution_count": null,
      "outputs": []
    },
    {
      "cell_type": "code",
      "metadata": {
        "colab": {
          "base_uri": "https://localhost:8080/",
          "height": 202
        },
        "id": "FSilLgpXmsyh",
        "outputId": "a7744820-9b29-4406-86e3-771cb563150f"
      },
      "source": [
        "df_pfizer.head()"
      ],
      "execution_count": null,
      "outputs": [
        {
          "output_type": "execute_result",
          "data": {
            "text/html": [
              "<div>\n",
              "<style scoped>\n",
              "    .dataframe tbody tr th:only-of-type {\n",
              "        vertical-align: middle;\n",
              "    }\n",
              "\n",
              "    .dataframe tbody tr th {\n",
              "        vertical-align: top;\n",
              "    }\n",
              "\n",
              "    .dataframe thead th {\n",
              "        text-align: right;\n",
              "    }\n",
              "</style>\n",
              "<table border=\"1\" class=\"dataframe\">\n",
              "  <thead>\n",
              "    <tr style=\"text-align: right;\">\n",
              "      <th></th>\n",
              "      <th>Unnamed: 0</th>\n",
              "      <th>user</th>\n",
              "      <th>location</th>\n",
              "      <th>pesan</th>\n",
              "    </tr>\n",
              "  </thead>\n",
              "  <tbody>\n",
              "    <tr>\n",
              "      <th>0</th>\n",
              "      <td>0</td>\n",
              "      <td>Andespen1</td>\n",
              "      <td>NaN</td>\n",
              "      <td>Punya Kadar Antibodi 2 Kali Lebih Tinggi Dari ...</td>\n",
              "    </tr>\n",
              "    <tr>\n",
              "      <th>1</th>\n",
              "      <td>1</td>\n",
              "      <td>officialside_id</td>\n",
              "      <td>Tangerang, Banten</td>\n",
              "      <td>QBIG BSD City bekerja sama dengan Dinkes Kabup...</td>\n",
              "    </tr>\n",
              "    <tr>\n",
              "      <th>2</th>\n",
              "      <td>2</td>\n",
              "      <td>Irman81</td>\n",
              "      <td>Jl.Cinere Raya - Limo</td>\n",
              "      <td>Vaksin Pfizer tgl 3 Sept jam 11:00, abis maghr...</td>\n",
              "    </tr>\n",
              "    <tr>\n",
              "      <th>3</th>\n",
              "      <td>3</td>\n",
              "      <td>jukezola</td>\n",
              "      <td>NaN</td>\n",
              "      <td>Vacinadah #Pfizer 💅🏽</td>\n",
              "    </tr>\n",
              "    <tr>\n",
              "      <th>4</th>\n",
              "      <td>4</td>\n",
              "      <td>fairoz_amir</td>\n",
              "      <td>Kinta, Perak</td>\n",
              "      <td>Settle Cucuk Chip ..Next?\\n#2nddosedone💉✔️\\n#p...</td>\n",
              "    </tr>\n",
              "  </tbody>\n",
              "</table>\n",
              "</div>"
            ],
            "text/plain": [
              "   Unnamed: 0  ...                                              pesan\n",
              "0           0  ...  Punya Kadar Antibodi 2 Kali Lebih Tinggi Dari ...\n",
              "1           1  ...  QBIG BSD City bekerja sama dengan Dinkes Kabup...\n",
              "2           2  ...  Vaksin Pfizer tgl 3 Sept jam 11:00, abis maghr...\n",
              "3           3  ...                               Vacinadah #Pfizer 💅🏽\n",
              "4           4  ...  Settle Cucuk Chip ..Next?\\n#2nddosedone💉✔️\\n#p...\n",
              "\n",
              "[5 rows x 4 columns]"
            ]
          },
          "metadata": {},
          "execution_count": 14
        }
      ]
    },
    {
      "cell_type": "code",
      "metadata": {
        "id": "O-OcSIR2mvB3"
      },
      "source": [
        "# dropping ALL duplicate values\n",
        "df_pfizer.drop_duplicates(subset =\"pesan\",\n",
        "                     keep = False, inplace = True)"
      ],
      "execution_count": null,
      "outputs": []
    },
    {
      "cell_type": "code",
      "metadata": {
        "colab": {
          "base_uri": "https://localhost:8080/"
        },
        "id": "gJRzWkAqmz2G",
        "outputId": "5c81745c-dd18-46ad-9ef4-ad6c758c0915"
      },
      "source": [
        "%%time\n",
        "df_pfizer['pesan'] = df_pfizer['pesan'].apply(lambda x: tweet_cleaner(x)).str.join(' ')"
      ],
      "execution_count": null,
      "outputs": [
        {
          "output_type": "stream",
          "name": "stdout",
          "text": [
            "CPU times: user 523 ms, sys: 0 ns, total: 523 ms\n",
            "Wall time: 527 ms\n"
          ]
        }
      ]
    },
    {
      "cell_type": "code",
      "metadata": {
        "colab": {
          "base_uri": "https://localhost:8080/",
          "height": 355
        },
        "id": "_b1Y1n8dm5Be",
        "outputId": "356cbead-b903-4e16-9735-b9a04aaf102a"
      },
      "source": [
        "df_pfizer.head(10)"
      ],
      "execution_count": null,
      "outputs": [
        {
          "output_type": "execute_result",
          "data": {
            "text/html": [
              "<div>\n",
              "<style scoped>\n",
              "    .dataframe tbody tr th:only-of-type {\n",
              "        vertical-align: middle;\n",
              "    }\n",
              "\n",
              "    .dataframe tbody tr th {\n",
              "        vertical-align: top;\n",
              "    }\n",
              "\n",
              "    .dataframe thead th {\n",
              "        text-align: right;\n",
              "    }\n",
              "</style>\n",
              "<table border=\"1\" class=\"dataframe\">\n",
              "  <thead>\n",
              "    <tr style=\"text-align: right;\">\n",
              "      <th></th>\n",
              "      <th>Unnamed: 0</th>\n",
              "      <th>user</th>\n",
              "      <th>location</th>\n",
              "      <th>pesan</th>\n",
              "    </tr>\n",
              "  </thead>\n",
              "  <tbody>\n",
              "    <tr>\n",
              "      <th>0</th>\n",
              "      <td>0</td>\n",
              "      <td>Andespen1</td>\n",
              "      <td>NaN</td>\n",
              "      <td>punya kadar antibodi kali lebih tinggi dari pf...</td>\n",
              "    </tr>\n",
              "    <tr>\n",
              "      <th>1</th>\n",
              "      <td>1</td>\n",
              "      <td>officialside_id</td>\n",
              "      <td>Tangerang, Banten</td>\n",
              "      <td>qbig bsd city bekerja sama dengan dinkes kabup...</td>\n",
              "    </tr>\n",
              "    <tr>\n",
              "      <th>2</th>\n",
              "      <td>2</td>\n",
              "      <td>Irman81</td>\n",
              "      <td>Jl.Cinere Raya - Limo</td>\n",
              "      <td>vaksin pfizer tanggal sept jam habis maghrib m...</td>\n",
              "    </tr>\n",
              "    <tr>\n",
              "      <th>3</th>\n",
              "      <td>3</td>\n",
              "      <td>jukezola</td>\n",
              "      <td>NaN</td>\n",
              "      <td>vacinadah</td>\n",
              "    </tr>\n",
              "    <tr>\n",
              "      <th>4</th>\n",
              "      <td>4</td>\n",
              "      <td>fairoz_amir</td>\n",
              "      <td>Kinta, Perak</td>\n",
              "      <td>settle cucuk chip next kpj ipoh specialist hos...</td>\n",
              "    </tr>\n",
              "    <tr>\n",
              "      <th>5</th>\n",
              "      <td>5</td>\n",
              "      <td>PemKabTangerang</td>\n",
              "      <td>Tangerang, Banten</td>\n",
              "      <td>vaksinasi pfizer bagi wargaberdomisili kab tgr...</td>\n",
              "    </tr>\n",
              "    <tr>\n",
              "      <th>6</th>\n",
              "      <td>6</td>\n",
              "      <td>afroamazonida</td>\n",
              "      <td>Ananindeua, Brasil</td>\n",
              "      <td>status imunizadah</td>\n",
              "    </tr>\n",
              "    <tr>\n",
              "      <th>7</th>\n",
              "      <td>7</td>\n",
              "      <td>BarbieriIzabela</td>\n",
              "      <td>Curitiba, Brasil</td>\n",
              "      <td>teh passadahhhhh fora bozoooo</td>\n",
              "    </tr>\n",
              "    <tr>\n",
              "      <th>8</th>\n",
              "      <td>8</td>\n",
              "      <td>_Room641A</td>\n",
              "      <td>RA 10h 47m 56s | Dec +8° 43 39</td>\n",
              "      <td>winter is coming tik tak tik tak that makes sense</td>\n",
              "    </tr>\n",
              "    <tr>\n",
              "      <th>9</th>\n",
              "      <td>9</td>\n",
              "      <td>nayurenavila</td>\n",
              "      <td>NaN</td>\n",
              "      <td>vacinadaaaah</td>\n",
              "    </tr>\n",
              "  </tbody>\n",
              "</table>\n",
              "</div>"
            ],
            "text/plain": [
              "   Unnamed: 0  ...                                              pesan\n",
              "0           0  ...  punya kadar antibodi kali lebih tinggi dari pf...\n",
              "1           1  ...  qbig bsd city bekerja sama dengan dinkes kabup...\n",
              "2           2  ...  vaksin pfizer tanggal sept jam habis maghrib m...\n",
              "3           3  ...                                          vacinadah\n",
              "4           4  ...  settle cucuk chip next kpj ipoh specialist hos...\n",
              "5           5  ...  vaksinasi pfizer bagi wargaberdomisili kab tgr...\n",
              "6           6  ...                                  status imunizadah\n",
              "7           7  ...                      teh passadahhhhh fora bozoooo\n",
              "8           8  ...  winter is coming tik tak tik tak that makes sense\n",
              "9           9  ...                                       vacinadaaaah\n",
              "\n",
              "[10 rows x 4 columns]"
            ]
          },
          "metadata": {},
          "execution_count": 17
        }
      ]
    },
    {
      "cell_type": "code",
      "metadata": {
        "id": "b54JSt0Bm7mO"
      },
      "source": [
        "df_pfizer.to_csv(\"/content/drive/MyDrive/Kominfo/data/new crawling/pfizerclean.csv\")"
      ],
      "execution_count": null,
      "outputs": []
    },
    {
      "cell_type": "markdown",
      "metadata": {
        "id": "AJshwHO1nEDP"
      },
      "source": [
        "AstraZaneca"
      ]
    },
    {
      "cell_type": "code",
      "metadata": {
        "id": "3ltpVMDenDTP"
      },
      "source": [
        "df_az = pd.read_csv('/content/drive/MyDrive/Kominfo/data/new crawling/AZ100.csv')"
      ],
      "execution_count": null,
      "outputs": []
    },
    {
      "cell_type": "code",
      "metadata": {
        "colab": {
          "base_uri": "https://localhost:8080/",
          "height": 202
        },
        "id": "EVfODTijnNIG",
        "outputId": "73ec7210-59e1-4498-b12c-456b1c98c39a"
      },
      "source": [
        "df_az.head()"
      ],
      "execution_count": null,
      "outputs": [
        {
          "output_type": "execute_result",
          "data": {
            "text/html": [
              "<div>\n",
              "<style scoped>\n",
              "    .dataframe tbody tr th:only-of-type {\n",
              "        vertical-align: middle;\n",
              "    }\n",
              "\n",
              "    .dataframe tbody tr th {\n",
              "        vertical-align: top;\n",
              "    }\n",
              "\n",
              "    .dataframe thead th {\n",
              "        text-align: right;\n",
              "    }\n",
              "</style>\n",
              "<table border=\"1\" class=\"dataframe\">\n",
              "  <thead>\n",
              "    <tr style=\"text-align: right;\">\n",
              "      <th></th>\n",
              "      <th>Unnamed: 0</th>\n",
              "      <th>user</th>\n",
              "      <th>location</th>\n",
              "      <th>pesan</th>\n",
              "    </tr>\n",
              "  </thead>\n",
              "  <tbody>\n",
              "    <tr>\n",
              "      <th>0</th>\n",
              "      <td>0</td>\n",
              "      <td>SantaiSini</td>\n",
              "      <td>NaN</td>\n",
              "      <td>Yolls dah vaccine ke? Bead vaccine ni viral ko...</td>\n",
              "    </tr>\n",
              "    <tr>\n",
              "      <th>1</th>\n",
              "      <td>1</td>\n",
              "      <td>KoalaBeartuldo</td>\n",
              "      <td>wherever I'm at</td>\n",
              "      <td>Thank you DBC/TSSI and Aventus! 😍 #firstdose #...</td>\n",
              "    </tr>\n",
              "    <tr>\n",
              "      <th>2</th>\n",
              "      <td>2</td>\n",
              "      <td>wtcklofficial</td>\n",
              "      <td>World Trade Centre KL</td>\n",
              "      <td>Staf kami sentiasa mementingkan aspek kebersih...</td>\n",
              "    </tr>\n",
              "    <tr>\n",
              "      <th>3</th>\n",
              "      <td>3</td>\n",
              "      <td>HariTriyatmo</td>\n",
              "      <td>Jakarta</td>\n",
              "      <td>Lengkap sudah ✌️ dua dosis vaksin Astra Zeneca...</td>\n",
              "    </tr>\n",
              "    <tr>\n",
              "      <th>4</th>\n",
              "      <td>4</td>\n",
              "      <td>HariTriyatmo</td>\n",
              "      <td>Jakarta</td>\n",
              "      <td>Lengkap sudah ✌️ dua dosis vaksin Astra Zeneca...</td>\n",
              "    </tr>\n",
              "  </tbody>\n",
              "</table>\n",
              "</div>"
            ],
            "text/plain": [
              "   Unnamed: 0  ...                                              pesan\n",
              "0           0  ...  Yolls dah vaccine ke? Bead vaccine ni viral ko...\n",
              "1           1  ...  Thank you DBC/TSSI and Aventus! 😍 #firstdose #...\n",
              "2           2  ...  Staf kami sentiasa mementingkan aspek kebersih...\n",
              "3           3  ...  Lengkap sudah ✌️ dua dosis vaksin Astra Zeneca...\n",
              "4           4  ...  Lengkap sudah ✌️ dua dosis vaksin Astra Zeneca...\n",
              "\n",
              "[5 rows x 4 columns]"
            ]
          },
          "metadata": {},
          "execution_count": 6
        }
      ]
    },
    {
      "cell_type": "code",
      "metadata": {
        "id": "Ph_BI2Z-nPtO"
      },
      "source": [
        "# dropping ALL duplicate values\n",
        "df_az.drop_duplicates(subset =\"pesan\",\n",
        "                     keep = False, inplace = True)"
      ],
      "execution_count": null,
      "outputs": []
    },
    {
      "cell_type": "code",
      "metadata": {
        "colab": {
          "base_uri": "https://localhost:8080/"
        },
        "id": "qJo3UJRe3gYb",
        "outputId": "726aa923-c48f-4398-8b40-a068bc7f7d36"
      },
      "source": [
        "%%time\n",
        "df_az['pesan'] = df_az['pesan'].apply(lambda x: tweet_cleaner(x)).str.join(' ')"
      ],
      "execution_count": null,
      "outputs": [
        {
          "output_type": "stream",
          "name": "stdout",
          "text": [
            "CPU times: user 619 ms, sys: 0 ns, total: 619 ms\n",
            "Wall time: 627 ms\n"
          ]
        }
      ]
    },
    {
      "cell_type": "code",
      "metadata": {
        "colab": {
          "base_uri": "https://localhost:8080/",
          "height": 359
        },
        "id": "G9zXN--W4G45",
        "outputId": "c02b7353-a99e-4ad9-e9fb-b9d45671f6c2"
      },
      "source": [
        "df_az.head(10)"
      ],
      "execution_count": null,
      "outputs": [
        {
          "output_type": "execute_result",
          "data": {
            "text/html": [
              "<div>\n",
              "<style scoped>\n",
              "    .dataframe tbody tr th:only-of-type {\n",
              "        vertical-align: middle;\n",
              "    }\n",
              "\n",
              "    .dataframe tbody tr th {\n",
              "        vertical-align: top;\n",
              "    }\n",
              "\n",
              "    .dataframe thead th {\n",
              "        text-align: right;\n",
              "    }\n",
              "</style>\n",
              "<table border=\"1\" class=\"dataframe\">\n",
              "  <thead>\n",
              "    <tr style=\"text-align: right;\">\n",
              "      <th></th>\n",
              "      <th>Unnamed: 0</th>\n",
              "      <th>user</th>\n",
              "      <th>location</th>\n",
              "      <th>pesan</th>\n",
              "    </tr>\n",
              "  </thead>\n",
              "  <tbody>\n",
              "    <tr>\n",
              "      <th>0</th>\n",
              "      <td>0</td>\n",
              "      <td>SantaiSini</td>\n",
              "      <td>NaN</td>\n",
              "      <td>yolls deh vaccine ke bead vaccine nih viral ko...</td>\n",
              "    </tr>\n",
              "    <tr>\n",
              "      <th>1</th>\n",
              "      <td>1</td>\n",
              "      <td>KoalaBeartuldo</td>\n",
              "      <td>wherever I'm at</td>\n",
              "      <td>thank you dbctssi and aventus aventus filo</td>\n",
              "    </tr>\n",
              "    <tr>\n",
              "      <th>2</th>\n",
              "      <td>2</td>\n",
              "      <td>wtcklofficial</td>\n",
              "      <td>World Trade Centre KL</td>\n",
              "      <td>staf kami sentiasa mementingkan aspek kebersih...</td>\n",
              "    </tr>\n",
              "    <tr>\n",
              "      <th>3</th>\n",
              "      <td>3</td>\n",
              "      <td>HariTriyatmo</td>\n",
              "      <td>Jakarta</td>\n",
              "      <td>lengkap sudah dua dosis vaksin astra zeneca di...</td>\n",
              "    </tr>\n",
              "    <tr>\n",
              "      <th>4</th>\n",
              "      <td>4</td>\n",
              "      <td>HariTriyatmo</td>\n",
              "      <td>Jakarta</td>\n",
              "      <td>lengkap sudah dua dosis vaksin astra zeneca di...</td>\n",
              "    </tr>\n",
              "    <tr>\n",
              "      <th>5</th>\n",
              "      <td>5</td>\n",
              "      <td>Irman81</td>\n",
              "      <td>Jl.Cinere Raya - Limo</td>\n",
              "      <td>vaksin pfizer tanggal sept jam habis maghrib m...</td>\n",
              "    </tr>\n",
              "    <tr>\n",
              "      <th>6</th>\n",
              "      <td>6</td>\n",
              "      <td>farul_nizam</td>\n",
              "      <td>Petaling, Selangor</td>\n",
              "      <td>selesai</td>\n",
              "    </tr>\n",
              "    <tr>\n",
              "      <th>7</th>\n",
              "      <td>7</td>\n",
              "      <td>wtcklofficial</td>\n",
              "      <td>World Trade Centre KL</td>\n",
              "      <td>masih raguragu sama ada anda perlu ambil vaksi...</td>\n",
              "    </tr>\n",
              "    <tr>\n",
              "      <th>8</th>\n",
              "      <td>8</td>\n",
              "      <td>monots</td>\n",
              "      <td>Ampang</td>\n",
              "      <td>tak mintak banyak cameron highland pun jadi la...</td>\n",
              "    </tr>\n",
              "    <tr>\n",
              "      <th>9</th>\n",
              "      <td>9</td>\n",
              "      <td>trtswahili</td>\n",
              "      <td>NaN</td>\n",
              "      <td>makubaliano ya chanjo kati ya eu nya</td>\n",
              "    </tr>\n",
              "  </tbody>\n",
              "</table>\n",
              "</div>"
            ],
            "text/plain": [
              "   Unnamed: 0  ...                                              pesan\n",
              "0           0  ...  yolls deh vaccine ke bead vaccine nih viral ko...\n",
              "1           1  ...         thank you dbctssi and aventus aventus filo\n",
              "2           2  ...  staf kami sentiasa mementingkan aspek kebersih...\n",
              "3           3  ...  lengkap sudah dua dosis vaksin astra zeneca di...\n",
              "4           4  ...  lengkap sudah dua dosis vaksin astra zeneca di...\n",
              "5           5  ...  vaksin pfizer tanggal sept jam habis maghrib m...\n",
              "6           6  ...                                            selesai\n",
              "7           7  ...  masih raguragu sama ada anda perlu ambil vaksi...\n",
              "8           8  ...  tak mintak banyak cameron highland pun jadi la...\n",
              "9           9  ...               makubaliano ya chanjo kati ya eu nya\n",
              "\n",
              "[10 rows x 4 columns]"
            ]
          },
          "metadata": {},
          "execution_count": 14
        }
      ]
    },
    {
      "cell_type": "code",
      "metadata": {
        "id": "IZyQb5OL4P56"
      },
      "source": [
        "df_az.to_csv(\"/content/drive/MyDrive/Kominfo/data/new crawling/azclean.csv\")"
      ],
      "execution_count": null,
      "outputs": []
    }
  ]
}